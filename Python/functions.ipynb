{
 "cells": [
  {
   "cell_type": "code",
   "execution_count": 2,
   "metadata": {},
   "outputs": [
    {
     "name": "stdout",
     "output_type": "stream",
     "text": [
      "25\n"
     ]
    }
   ],
   "source": [
    "def square(var):\n",
    "    return var**2\n",
    "print(square(5))\n"
   ]
  },
  {
   "cell_type": "code",
   "execution_count": 25,
   "metadata": {},
   "outputs": [
    {
     "name": "stdout",
     "output_type": "stream",
     "text": [
      "[(1, 'a'), (2, 'b'), (3, 'c')]\n"
     ]
    }
   ],
   "source": [
    "list1 = [1,2,3]\n",
    "list2 = ['a','b','c']\n",
    "r = zip(list1,list2)\n",
    "print(list(r))"
   ]
  },
  {
   "cell_type": "code",
   "execution_count": 30,
   "metadata": {},
   "outputs": [
    {
     "name": "stdout",
     "output_type": "stream",
     "text": [
      "2\n"
     ]
    }
   ],
   "source": [
    "list3 = [10,30,10,75,80]\n",
    "print(list3.count(list3[2]))"
   ]
  },
  {
   "cell_type": "code",
   "execution_count": 33,
   "metadata": {},
   "outputs": [
    {
     "name": "stdout",
     "output_type": "stream",
     "text": [
      "{'name': 'zakir', 'age': 30, 'major': 'CS'}\n",
      "dict_keys(['name', 'age', 'major'])\n",
      "dict_values(['zakir', 30, 'CS'])\n",
      "dict_items([('name', 'zakir'), ('age', 30), ('major', 'CS')])\n"
     ]
    }
   ],
   "source": [
    "student = dict(name = 'zakir', age =30, major = 'CS')\n",
    "print(student)\n",
    "print(student.keys())\n",
    "print(student.values())\n",
    "print(student.items())"
   ]
  },
  {
   "cell_type": "code",
   "execution_count": 43,
   "metadata": {},
   "outputs": [
    {
     "name": "stdout",
     "output_type": "stream",
     "text": [
      "{10: 2, 2: 3, 56: 1, 11: 1, 78: 1, 90: 1}\n"
     ]
    }
   ],
   "source": [
    "freq = {}\n",
    "list1 = [10,2,56,2,11,10,78,90,2]\n",
    "for i in list1:\n",
    "    freq[i]=list1.count(i)\n",
    "print(freq)"
   ]
  },
  {
   "cell_type": "code",
   "execution_count": 47,
   "metadata": {},
   "outputs": [
    {
     "name": "stdout",
     "output_type": "stream",
     "text": [
      "1\n",
      "50\n",
      "60\n",
      "89\n",
      "1\n"
     ]
    }
   ],
   "source": [
    "t = (1,50,60,89)\n",
    "for i in range(len(t)):\n",
    "    print(t[i])\n",
    "print(t.count(60))"
   ]
  },
  {
   "cell_type": "code",
   "execution_count": 48,
   "metadata": {},
   "outputs": [
    {
     "name": "stdout",
     "output_type": "stream",
     "text": [
      "1\n"
     ]
    }
   ],
   "source": [
    "f = ('apple','mango','orange')\n",
    "print(f.count('apple'))"
   ]
  },
  {
   "cell_type": "code",
   "execution_count": 30,
   "metadata": {},
   "outputs": [
    {
     "name": "stdout",
     "output_type": "stream",
     "text": [
      "hello\n"
     ]
    }
   ],
   "source": [
    "def func1(x):\n",
    "    if x > 10:\n",
    "        print(\"hello\")\n",
    "    else:\n",
    "        print(\"bye\")\n",
    "func1(20)\n",
    "    "
   ]
  },
  {
   "cell_type": "code",
   "execution_count": 28,
   "metadata": {},
   "outputs": [
    {
     "ename": "TypeError",
     "evalue": "string indices must be integers, not 'str'",
     "output_type": "error",
     "traceback": [
      "\u001b[1;31m---------------------------------------------------------------------------\u001b[0m",
      "\u001b[1;31mTypeError\u001b[0m                                 Traceback (most recent call last)",
      "Cell \u001b[1;32mIn[28], line 5\u001b[0m\n\u001b[0;32m      3\u001b[0m \u001b[38;5;28;01mfor\u001b[39;00m i \u001b[38;5;129;01min\u001b[39;00m string1:\n\u001b[0;32m      4\u001b[0m     \u001b[38;5;28;01mfor\u001b[39;00m j \u001b[38;5;129;01min\u001b[39;00m string2:\n\u001b[1;32m----> 5\u001b[0m         \u001b[38;5;28;01mif\u001b[39;00m \u001b[43mstring1\u001b[49m\u001b[43m[\u001b[49m\u001b[43mi\u001b[49m\u001b[43m]\u001b[49m\u001b[38;5;241m==\u001b[39mstring2[j]:\n\u001b[0;32m      6\u001b[0m             \u001b[38;5;28mprint\u001b[39m(\u001b[38;5;124m\"\u001b[39m\u001b[38;5;124mSame\u001b[39m\u001b[38;5;124m\"\u001b[39m)\n",
      "\u001b[1;31mTypeError\u001b[0m: string indices must be integers, not 'str'"
     ]
    }
   ],
   "source": [
    "string1  = \"123\"\n",
    "string2  = \"321\"\n",
    "for i in string1:\n",
    "    for j in string2:\n",
    "        if string1[i]==string2[j]:\n",
    "            print(\"Same\")\n"
   ]
  },
  {
   "cell_type": "code",
   "execution_count": 33,
   "metadata": {},
   "outputs": [
    {
     "name": "stdout",
     "output_type": "stream",
     "text": [
      "Whats your name\n",
      "Hey owais,tell your password\n"
     ]
    }
   ],
   "source": [
    "while True:\n",
    "    print(\"Whats your name\")\n",
    "    name = input()\n",
    "    if name!='owais':\n",
    "        continue\n",
    "    print(\"Hey owais,tell your password\")\n",
    "    password = input()\n",
    "    if password=='lion':\n",
    "        break\n",
    "    print(\"Acess granted\")"
   ]
  },
  {
   "cell_type": "code",
   "execution_count": 61,
   "metadata": {},
   "outputs": [
    {
     "name": "stdout",
     "output_type": "stream",
     "text": [
      "['larry', 'curly', 'moe']\n",
      "['larry', 'curly', 'moe', 'smith']\n",
      "['larry', 'curly', 'william', 'moe', 'smith']\n",
      "['xxx', 'yyy', 'larry', 'curly', 'william', 'moe', 'smith']\n",
      "['larry', 'curly', 'william', 'moe', 'smith']\n",
      "1\n",
      "['xxx', 'larry', 'curly', 'william', 'moe', 'smith']\n",
      "['xxx', 'larry', 'curly', 'william', 'moe']\n",
      "['moe', 'william', 'curly', 'larry', 'xxx']\n",
      "['xxx', 'larry', 'curly', 'william', 'moe']\n",
      "['moe', 'curly', 'larry', 'xxx']\n",
      "['curly', 'larry', 'moe', 'xxx']\n",
      "['banana', 'mango', 'moe', 'william']\n",
      "index: 0 value: 10\n",
      "index: 1 value: 20\n",
      "index: 2 value: 30\n",
      "index: 3 value: 40\n",
      "index: 4 value: 50\n"
     ]
    }
   ],
   "source": [
    "list1 = ['larry','curly','moe']\n",
    "print(list1)\n",
    "list1.append('smith')\n",
    "print(list1)\n",
    "list1.insert(2,'william')\n",
    "print(list1)\n",
    "\n",
    "list2 = ['xxx','yyy']\n",
    "list2.extend(list1)\n",
    "print(list2)\n",
    "print(list1)\n",
    "print(list2.index('yyy'))\n",
    "list2.remove('yyy')\n",
    "print(list2)\n",
    "list2.pop()\n",
    "print(list2)\n",
    "list2.reverse()\n",
    "print(list2)\n",
    "print(list2[::-1])\n",
    "list2.remove('william')\n",
    "print(list2)\n",
    "list2.sort()\n",
    "print(list2)\n",
    "list3 = ['moe','william','banana','mango']\n",
    "list3.sort()\n",
    "print(list3)\n",
    "\n",
    "list4 =[10,20,30,40,50]\n",
    "for index, value in enumerate(list4):\n",
    "    print(\"index:\",index,\"value:\",value)"
   ]
  },
  {
   "cell_type": "code",
   "execution_count": 63,
   "metadata": {},
   "outputs": [
    {
     "name": "stdout",
     "output_type": "stream",
     "text": [
      "[0, 1, 2, 3, 4, 5, 6, 7]\n",
      "<class 'list'>\n"
     ]
    }
   ],
   "source": [
    "list1 = list(range(8))\n",
    "print(list1)\n",
    "print(type(list1))"
   ]
  },
  {
   "cell_type": "code",
   "execution_count": 67,
   "metadata": {},
   "outputs": [
    {
     "name": "stdout",
     "output_type": "stream",
     "text": [
      "[['owais', 'bhat'], [10, 12, 14, 16]]\n",
      "['owais', 'bhat']\n",
      "bhat\n"
     ]
    }
   ],
   "source": [
    "list2 = [['owais','bhat'],[10,12,14,16]]\n",
    "print(list2)\n",
    "print(list2[0])\n",
    "print(list2[0][1])"
   ]
  },
  {
   "cell_type": "code",
   "execution_count": 75,
   "metadata": {},
   "outputs": [
    {
     "name": "stdout",
     "output_type": "stream",
     "text": [
      "['apple', 'pear', 'grapes', 'mango']\n"
     ]
    }
   ],
   "source": [
    "list3 = [\"apple\",\"pear\",\"grapes\",\"mango\"]\n",
    "print(list3[:])"
   ]
  },
  {
   "cell_type": "code",
   "execution_count": 79,
   "metadata": {},
   "outputs": [
    {
     "name": "stdout",
     "output_type": "stream",
     "text": [
      "[1, 2, 3]\n"
     ]
    }
   ],
   "source": [
    "list1 = [1,2,3]\n",
    "list2 = ['a','b','c']\n",
    "result = list1 + list2\n",
    "print(result)\n",
    "list1 = list1*2\n",
    "print(list1)"
   ]
  },
  {
   "cell_type": "code",
   "execution_count": 7,
   "metadata": {},
   "outputs": [
    {
     "name": "stdout",
     "output_type": "stream",
     "text": [
      "[100, 500, 750]\n"
     ]
    }
   ],
   "source": [
    "list1 = [100,500,800,750]\n",
    "del list1 [2:3]\n",
    "print(list1)"
   ]
  },
  {
   "cell_type": "code",
   "execution_count": 8,
   "metadata": {},
   "outputs": [
    {
     "name": "stdout",
     "output_type": "stream",
     "text": [
      "Element found\n",
      "Element not in list\n"
     ]
    }
   ],
   "source": [
    "list1 = [5,15,35,40,50]\n",
    "if 15 in list1:\n",
    "    print('Element found')\n",
    "if 'apple' not in list1:\n",
    "    print('Element not in list')"
   ]
  },
  {
   "cell_type": "code",
   "execution_count": 9,
   "metadata": {},
   "outputs": [
    {
     "name": "stdout",
     "output_type": "stream",
     "text": [
      "['a', 'b', 100]\n"
     ]
    }
   ],
   "source": [
    "list1 =[]\n",
    "list1.append('a')\n",
    "list1.append('b')\n",
    "list1.append(100)\n",
    "print(list1)"
   ]
  },
  {
   "cell_type": "code",
   "execution_count": 11,
   "metadata": {},
   "outputs": [
    {
     "name": "stdout",
     "output_type": "stream",
     "text": [
      "['a', 'b', 'c', 'd']\n",
      "['z', 'c', 'd']\n"
     ]
    }
   ],
   "source": [
    "list1 = ['a','b','c','d']\n",
    "print(list1)\n",
    "list1[0:2] = 'z'\n",
    "print(list1)\n"
   ]
  },
  {
   "cell_type": "code",
   "execution_count": 23,
   "metadata": {},
   "outputs": [
    {
     "name": "stdout",
     "output_type": "stream",
     "text": [
      "31\n"
     ]
    }
   ],
   "source": [
    "d = {\"name\" : \"tanzeel\", \n",
    "     'rollno' : 1 ,\n",
    "     'age' : 31 }\n",
    "print(d['age'])"
   ]
  },
  {
   "cell_type": "code",
   "execution_count": 24,
   "metadata": {},
   "outputs": [
    {
     "name": "stdout",
     "output_type": "stream",
     "text": [
      "{'name': 'amjad', 'address': 'city'}\n"
     ]
    }
   ],
   "source": [
    "d2 = {}\n",
    "d2['name'] = 'amjad'\n",
    "d2['address'] = 'city'\n",
    "print(d2)"
   ]
  },
  {
   "cell_type": "code",
   "execution_count": 3,
   "metadata": {},
   "outputs": [
    {
     "name": "stdout",
     "output_type": "stream",
     "text": [
      "['apple', 'banana']\n"
     ]
    }
   ],
   "source": [
    "\n",
    "fruits=['apple','banana','cherry','kiwi']\n",
    "newlist=[]\n",
    "for x in fruits:\n",
    "    if \"a\" in x:\n",
    "        newlist.append(x)\n",
    "print(newlist)        "
   ]
  },
  {
   "cell_type": "code",
   "execution_count": 2,
   "metadata": {},
   "outputs": [
    {
     "name": "stdout",
     "output_type": "stream",
     "text": [
      "15\n"
     ]
    }
   ],
   "source": [
    "x = lambda a:a+10\n",
    "print(x(5))"
   ]
  },
  {
   "cell_type": "code",
   "execution_count": 12,
   "metadata": {},
   "outputs": [
    {
     "name": "stdout",
     "output_type": "stream",
     "text": [
      "30\n"
     ]
    }
   ],
   "source": [
    "x = lambda a,b:a*b \n",
    "print(x(5,6))"
   ]
  },
  {
   "cell_type": "code",
   "execution_count": 16,
   "metadata": {},
   "outputs": [
    {
     "name": "stdout",
     "output_type": "stream",
     "text": [
      "2\n"
     ]
    }
   ],
   "source": [
    "Max = lambda a,b:a if (a>b) else b\n",
    "print(Max(1,2))"
   ]
  },
  {
   "cell_type": "code",
   "execution_count": 24,
   "metadata": {},
   "outputs": [
    {
     "name": "stdout",
     "output_type": "stream",
     "text": [
      "4\n"
     ]
    }
   ],
   "source": [
    "def func1(a,b):\n",
    "    if a>b:\n",
    "        print(a)\n",
    "    else:\n",
    "        print(b)\n",
    "func1(3,4)"
   ]
  },
  {
   "cell_type": "code",
   "execution_count": 38,
   "metadata": {},
   "outputs": [
    {
     "name": "stdout",
     "output_type": "stream",
     "text": [
      "[5, 7, 97, 77]\n"
     ]
    }
   ],
   "source": [
    "li = [5,7,22,97,54,62,77]\n",
    "finallist =list(filter(lambda x:(x%2!=0),li))\n",
    "print(finallist) "
   ]
  },
  {
   "cell_type": "code",
   "execution_count": 40,
   "metadata": {},
   "outputs": [
    {
     "name": "stdout",
     "output_type": "stream",
     "text": [
      "Age of adults are : [90, 59, 21, 60]\n"
     ]
    }
   ],
   "source": [
    "ages = [13,90,17,59,21,60,5]\n",
    "adult_age =list(filter(lambda x:x>18,ages))\n",
    "print('Age of adults are :',adult_age)\n"
   ]
  },
  {
   "cell_type": "code",
   "execution_count": 41,
   "metadata": {},
   "outputs": [
    {
     "name": "stdout",
     "output_type": "stream",
     "text": [
      "[10, 14, 44, 108, 128]\n"
     ]
    }
   ],
   "source": [
    "li =  [5,7,22,54,64]\n",
    "fl = list(map(lambda x:x*2,li))\n",
    "print(fl)"
   ]
  },
  {
   "cell_type": "code",
   "execution_count": 46,
   "metadata": {},
   "outputs": [
    {
     "name": "stdout",
     "output_type": "stream",
     "text": [
      "['HORSE', 'GOAT', 'ELEPHANT', 'COW']\n"
     ]
    }
   ],
   "source": [
    "l1 = ['Horse','Goat','elephant','Cow']\n",
    "fl = list(map(lambda x:x.upper(),l1))\n",
    "print(fl)"
   ]
  }
 ],
 "metadata": {
  "kernelspec": {
   "display_name": "Python 3",
   "language": "python",
   "name": "python3"
  },
  "language_info": {
   "codemirror_mode": {
    "name": "ipython",
    "version": 3
   },
   "file_extension": ".py",
   "mimetype": "text/x-python",
   "name": "python",
   "nbconvert_exporter": "python",
   "pygments_lexer": "ipython3",
   "version": "3.12.3"
  }
 },
 "nbformat": 4,
 "nbformat_minor": 2
}
