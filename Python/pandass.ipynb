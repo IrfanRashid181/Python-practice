{
 "cells": [
  {
   "cell_type": "code",
   "execution_count": 1,
   "metadata": {},
   "outputs": [
    {
     "name": "stdout",
     "output_type": "stream",
     "text": [
      "A    10\n",
      "B    20\n",
      "C    30\n",
      "D    40\n",
      "E    50\n",
      "dtype: int64\n"
     ]
    }
   ],
   "source": [
    "import pandas as pd\n",
    "data = [10,20,30,40,50]\n",
    "index = ['A','B','C','D','E']\n",
    "series = pd.Series(data, index = index)\n",
    "print(series)"
   ]
  },
  {
   "cell_type": "code",
   "execution_count": 2,
   "metadata": {},
   "outputs": [
    {
     "name": "stdout",
     "output_type": "stream",
     "text": [
      "A     100\n",
      "B     400\n",
      "C     900\n",
      "D    1600\n",
      "E    2500\n",
      "dtype: int64\n"
     ]
    }
   ],
   "source": [
    "squared_series = series**2\n",
    "print(squared_series)"
   ]
  },
  {
   "cell_type": "code",
   "execution_count": 3,
   "metadata": {},
   "outputs": [
    {
     "name": "stdout",
     "output_type": "stream",
     "text": [
      "20\n",
      "A    15\n",
      "B    25\n",
      "C    35\n",
      "D    45\n",
      "E    55\n",
      "dtype: int64\n",
      "C    35\n",
      "D    45\n",
      "E    55\n",
      "dtype: int64\n"
     ]
    }
   ],
   "source": [
    "print(series['B'])\n",
    "\n",
    "series += 5\n",
    "print(series)\n",
    "\n",
    "filtered_series = series[series > 30]\n",
    "print(filtered_series)"
   ]
  },
  {
   "cell_type": "code",
   "execution_count": 56,
   "metadata": {},
   "outputs": [
    {
     "name": "stdout",
     "output_type": "stream",
     "text": [
      "      Name  Age     City\n",
      "0    Alice   25       NY\n",
      "1      Bob   30       LA\n",
      "2  Charlie   22  Chicago\n",
      "3    David   28  Houston\n"
     ]
    }
   ],
   "source": [
    "data = {'Name' : ['Alice','Bob','Charlie','David'],\n",
    "        'Age' : [ 25, 30, 22, 28 ],\n",
    "        'City' : ['NY','LA','Chicago','Houston']}\n",
    "df = pd.DataFrame(data)\n",
    "print(df)"
   ]
  },
  {
   "cell_type": "code",
   "execution_count": 57,
   "metadata": {},
   "outputs": [
    {
     "name": "stdout",
     "output_type": "stream",
     "text": [
      "      Name  Age     City\n",
      "0    Alice   25       NY\n",
      "1      Bob   30       LA\n",
      "2  Charlie   22  Chicago\n",
      "3    David   28  Houston\n",
      "0      Alice\n",
      "1        Bob\n",
      "2    Charlie\n",
      "3      David\n",
      "Name: Name, dtype: object\n"
     ]
    }
   ],
   "source": [
    "print(df.head())\n",
    "print(df['Name'])"
   ]
  },
  {
   "cell_type": "code",
   "execution_count": 58,
   "metadata": {},
   "outputs": [
    {
     "name": "stdout",
     "output_type": "stream",
     "text": [
      "Name    Alice\n",
      "Age        25\n",
      "City       NY\n",
      "Name: 0, dtype: object\n"
     ]
    }
   ],
   "source": [
    "print(df.iloc[0])"
   ]
  },
  {
   "cell_type": "code",
   "execution_count": 59,
   "metadata": {},
   "outputs": [
    {
     "name": "stdout",
     "output_type": "stream",
     "text": [
      "      Name  Age     City\n",
      "0    Alice   25       NY\n",
      "1      Bob   30       LA\n",
      "2  Charlie   22  Chicago\n",
      "3    David   28  Houston\n"
     ]
    }
   ],
   "source": [
    "subset_rows = df.iloc[0:4]\n",
    "print(subset_rows)"
   ]
  },
  {
   "cell_type": "code",
   "execution_count": 60,
   "metadata": {},
   "outputs": [
    {
     "name": "stdout",
     "output_type": "stream",
     "text": [
      "  Name  Age City\n",
      "1  Bob   30   LA\n",
      "      Name  Age     City\n",
      "0    Alice   25       NY\n",
      "2  Charlie   22  Chicago\n",
      "   Age     City\n",
      "1   30       LA\n",
      "2   22  Chicago\n"
     ]
    }
   ],
   "source": [
    "row_bob = df.loc[df['Name'] == 'Bob']\n",
    "print(row_bob)\n",
    "\n",
    "subset_rows = df.loc[[0, 2]]\n",
    "print(subset_rows)\n",
    "\n",
    "subset = df.iloc[1:3, 1:3]\n",
    "print(subset)\n",
    "\n"
   ]
  },
  {
   "cell_type": "code",
   "execution_count": 61,
   "metadata": {},
   "outputs": [
    {
     "name": "stdout",
     "output_type": "stream",
     "text": [
      "      Name  Age\n",
      "0    Alice   25\n",
      "1      Bob   30\n",
      "2  Charlie   22\n",
      "3    David   28\n",
      "      Name  Age     City\n",
      "0    Alice   25       NY\n",
      "2  Charlie   22  Chicago\n",
      "3    David   28  Houston\n"
     ]
    }
   ],
   "source": [
    "subset = df.loc[0:3,['Name','Age']]\n",
    "print(subset)\n",
    "\n",
    "\n",
    "young_people = df[df['Age'] <30]\n",
    "print(young_people)"
   ]
  },
  {
   "cell_type": "code",
   "execution_count": 62,
   "metadata": {},
   "outputs": [
    {
     "name": "stdout",
     "output_type": "stream",
     "text": [
      "      Name  Age     City\n",
      "2  Charlie   22  Chicago\n"
     ]
    }
   ],
   "source": [
    "chicago_results = df[df[\"City\"] == 'Chicago']\n",
    "print(chicago_results)"
   ]
  },
  {
   "cell_type": "code",
   "execution_count": 63,
   "metadata": {},
   "outputs": [
    {
     "name": "stdout",
     "output_type": "stream",
     "text": [
      "      Name  Age     City  Salary\n",
      "0    Alice   25       NY    6000\n",
      "1      Bob   30       LA    7000\n",
      "2  Charlie   22  Chicago    5500\n",
      "3    David   28  Houston    6000\n"
     ]
    }
   ],
   "source": [
    "df['Salary'] = [6000, 7000, 5500, 6000]\n",
    "print(df)"
   ]
  },
  {
   "cell_type": "code",
   "execution_count": 64,
   "metadata": {},
   "outputs": [
    {
     "name": "stdout",
     "output_type": "stream",
     "text": [
      "      Name  Years     City  Salary\n",
      "0    Alice     25       NY    6000\n",
      "1      Bob     30       LA    7000\n",
      "2  Charlie     22  Chicago    5500\n",
      "3    David     28  Houston    6000\n"
     ]
    }
   ],
   "source": [
    "df.rename(columns = {'Age' : 'Years'} , inplace = True)\n",
    "print(df)"
   ]
  },
  {
   "cell_type": "code",
   "execution_count": 65,
   "metadata": {},
   "outputs": [
    {
     "name": "stdout",
     "output_type": "stream",
     "text": [
      "      Name  Years  Salary\n",
      "0    Alice     25    6000\n",
      "1      Bob     30    7000\n",
      "2  Charlie     22    5500\n",
      "3    David     28    6000\n"
     ]
    }
   ],
   "source": [
    "df.drop(columns = ['City'], inplace = True)\n",
    "print(df)"
   ]
  }
 ],
 "metadata": {
  "kernelspec": {
   "display_name": "Python 3",
   "language": "python",
   "name": "python3"
  },
  "language_info": {
   "codemirror_mode": {
    "name": "ipython",
    "version": 3
   },
   "file_extension": ".py",
   "mimetype": "text/x-python",
   "name": "python",
   "nbconvert_exporter": "python",
   "pygments_lexer": "ipython3",
   "version": "3.12.3"
  }
 },
 "nbformat": 4,
 "nbformat_minor": 2
}
