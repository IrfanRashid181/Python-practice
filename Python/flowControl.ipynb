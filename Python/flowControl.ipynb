{
 "cells": [
  {
   "cell_type": "code",
   "execution_count": 10,
   "metadata": {},
   "outputs": [
    {
     "name": "stdout",
     "output_type": "stream",
     "text": [
      "Enter the marks\n",
      "Distinction\n",
      "Enter the name\n",
      "irfan\n"
     ]
    }
   ],
   "source": [
    "print('Enter the marks')\n",
    "marks = int(input())\n",
    "if marks > 75:\n",
    "    print('Distinction')\n",
    "elif marks > 40:\n",
    "    print('Pass')\n",
    "else:\n",
    "    print('Fail')\n",
    "    \n",
    "print('Enter the name')\n",
    "name = str(input())\n",
    "if name ==  'irfan':\n",
    "    print(name)\n",
    "else:\n",
    "    print('Assalamualikum')"
   ]
  },
  {
   "cell_type": "code",
   "execution_count": 9,
   "metadata": {},
   "outputs": [
    {
     "name": "stdout",
     "output_type": "stream",
     "text": [
      "department of computer science\n",
      "Enter the marks\n"
     ]
    },
    {
     "ename": "NameError",
     "evalue": "name 'marks' is not defined",
     "output_type": "error",
     "traceback": [
      "\u001b[1;31m---------------------------------------------------------------------------\u001b[0m",
      "\u001b[1;31mNameError\u001b[0m                                 Traceback (most recent call last)",
      "Cell \u001b[1;32mIn[9], line 3\u001b[0m\n\u001b[0;32m      1\u001b[0m \u001b[38;5;28mprint\u001b[39m(\u001b[38;5;124m'\u001b[39m\u001b[38;5;124mdepartment of computer science\u001b[39m\u001b[38;5;124m'\u001b[39m)\n\u001b[0;32m      2\u001b[0m \u001b[38;5;28mprint\u001b[39m(\u001b[38;5;124m'\u001b[39m\u001b[38;5;124mEnter the marks\u001b[39m\u001b[38;5;124m'\u001b[39m)\n\u001b[1;32m----> 3\u001b[0m \u001b[43mmarks\u001b[49m[\u001b[38;5;241m5\u001b[39m]\n\u001b[0;32m      4\u001b[0m \u001b[38;5;28;01mfor\u001b[39;00m x \u001b[38;5;129;01min\u001b[39;00m marks(\u001b[38;5;241m5\u001b[39m):\n\u001b[0;32m      5\u001b[0m     marks \u001b[38;5;241m=\u001b[39m \u001b[38;5;28mint\u001b[39m(\u001b[38;5;28minput\u001b[39m())\n",
      "\u001b[1;31mNameError\u001b[0m: name 'marks' is not defined"
     ]
    }
   ],
   "source": [
    "print('department of computer science')\n",
    "print('Enter the marks')\n",
    "marks[5]\n",
    "for x in marks(5):\n",
    "    marks = int(input())\n",
    "    \n",
    "for x in marks(5):\n",
    "    print(marks)\n",
    "        \n",
    "    \n",
    "    "
   ]
  },
  {
   "cell_type": "code",
   "execution_count": 2,
   "metadata": {},
   "outputs": [
    {
     "name": "stdout",
     "output_type": "stream",
     "text": [
      "0\n",
      "1\n",
      "2\n",
      "3\n",
      "4\n"
     ]
    }
   ],
   "source": [
    "x = range(6)\n",
    "for i in x:\n",
    "    if i==5:\n",
    "        break\n",
    "    print(i)\n",
    "\n",
    "\n",
    "    "
   ]
  },
  {
   "cell_type": "code",
   "execution_count": 3,
   "metadata": {},
   "outputs": [
    {
     "name": "stdout",
     "output_type": "stream",
     "text": [
      "o\n",
      "13\n"
     ]
    }
   ],
   "source": [
    "x = \"Hello, world!\"\n",
    "print(x[8])\n",
    "print(len(x))\n",
    "\n",
    "\n"
   ]
  },
  {
   "cell_type": "code",
   "execution_count": 6,
   "metadata": {},
   "outputs": [
    {
     "name": "stdout",
     "output_type": "stream",
     "text": [
      "character occurance : \n",
      "f':1\n",
      " ':1\n",
      "a':4\n",
      "s':1\n",
      "h':2\n",
      "d':1\n",
      "q':1\n",
      "m':1\n"
     ]
    }
   ],
   "source": [
    "input_string = input(\"Enter string\" )\n",
    "\n",
    "char_count = {char :input_string.count(char)for char in set(input_string)}\n",
    "\n",
    "print(\"character occurance : \")\n",
    "\n",
    "for char  , count in char_count.items():\n",
    "    print(f\"{char}':{count}\")"
   ]
  },
  {
   "cell_type": "code",
   "execution_count": 7,
   "metadata": {},
   "outputs": [
    {
     "name": "stdout",
     "output_type": "stream",
     "text": [
      "the largest number is : 9\n"
     ]
    }
   ],
   "source": [
    "numbers = [1,4,6,9]\n",
    "\n",
    "largest_numbers=max(numbers)\n",
    "print(f'the largest number is : {largest_numbers}')"
   ]
  },
  {
   "cell_type": "code",
   "execution_count": null,
   "metadata": {},
   "outputs": [],
   "source": [
    "class vechicle :\n",
    "    def __init__(self,color,model):\n",
    "        self.color=color\n",
    "        self.model \n",
    "    \n"
   ]
  },
  {
   "cell_type": "code",
   "execution_count": 10,
   "metadata": {},
   "outputs": [
    {
     "name": "stdout",
     "output_type": "stream",
     "text": [
      "The second largest element is: 7\n"
     ]
    }
   ],
   "source": [
    "numbers = [1, 9, 4, 7]\n",
    "\n",
    "\n",
    "unique_numbers = list(numbers)\n",
    "unique_numbers.sort()\n",
    "\n",
    "\n",
    "if len(unique_numbers) >= 2:\n",
    "    second_largest = unique_numbers[-2]\n",
    "else:\n",
    "    second_largest = None\n",
    "\n",
    "print(\"The second largest element is:\", second_largest)\n"
   ]
  },
  {
   "cell_type": "code",
   "execution_count": 11,
   "metadata": {},
   "outputs": [
    {
     "name": "stdout",
     "output_type": "stream",
     "text": [
      "{1: 1, 2: 2, 3: 1, 4: 3, 5: 1}\n"
     ]
    }
   ],
   "source": [
    "def find_frequency(input_list):\n",
    "    frequency_dict = {}\n",
    "    \n",
    "    for item in input_list:\n",
    "        if item in frequency_dict:\n",
    "            frequency_dict[item] += 1\n",
    "        else:\n",
    "            frequency_dict[item] = 1\n",
    "            \n",
    "    return frequency_dict\n",
    "\n",
    "\n",
    "input_list = [1, 2, 2, 3, 4, 4, 4, 5]\n",
    "frequency = find_frequency(input_list)\n",
    "print(frequency)\n"
   ]
  }
 ],
 "metadata": {
  "kernelspec": {
   "display_name": "Python 3",
   "language": "python",
   "name": "python3"
  },
  "language_info": {
   "codemirror_mode": {
    "name": "ipython",
    "version": 3
   },
   "file_extension": ".py",
   "mimetype": "text/x-python",
   "name": "python",
   "nbconvert_exporter": "python",
   "pygments_lexer": "ipython3",
   "version": "3.12.3"
  }
 },
 "nbformat": 4,
 "nbformat_minor": 2
}
