{
 "cells": [
  {
   "cell_type": "code",
   "execution_count": 8,
   "metadata": {},
   "outputs": [
    {
     "name": "stdout",
     "output_type": "stream",
     "text": [
      "Is 415-555-4242 a phone number?\n",
      "True\n",
      "Is xxx-123-345 a phone number?\n",
      "False\n"
     ]
    }
   ],
   "source": [
    "def isPhoneNumber(text):\n",
    "    if len(text) != 12:\n",
    "        return False\n",
    "    for i in range(0, 3):\n",
    "        if not text[i].isdecimal():\n",
    "            return False\n",
    "    if text[3] != '-':\n",
    "        return False\n",
    "    for i in range(4, 7):\n",
    "        if not text[i].isdecimal():\n",
    "            return False\n",
    "    if text[7] != '-':\n",
    "        return False\n",
    "    for i in range(8, 12):\n",
    "        if not text[i].isdecimal():\n",
    "            return False\n",
    "    return True\n",
    "#isPhoneNumber('415-555-4242')\n",
    "print('Is 415-555-4242 a phone number?')\n",
    "print(isPhoneNumber('415-555-4242'))\n",
    "print('Is xxx-123-345 a phone number?')\n",
    "print(isPhoneNumber('xxx-123-3445'))\n"
   ]
  },
  {
   "cell_type": "code",
   "execution_count": 13,
   "metadata": {},
   "outputs": [
    {
     "name": "stdout",
     "output_type": "stream",
     "text": [
      "we are done\n"
     ]
    }
   ],
   "source": [
    "message = \"call me 415-555-3456 tomorrow. 415-555-9999 is my office\"\n",
    "for i in range(len(message)):\n",
    "    chunck = message[i:i+12]\n",
    "if isPhoneNumber(chunck):\n",
    "    print(\"phone number found\" + chunck)\n",
    "print(\"we are done\")"
   ]
  },
  {
   "cell_type": "code",
   "execution_count": 9,
   "metadata": {},
   "outputs": [
    {
     "name": "stdout",
     "output_type": "stream",
     "text": [
      "<re.Match object; span=(10, 15), match='brown'>\n",
      "(10, 15)\n",
      "The quick brown for jumps over the lazy dog\n",
      "brown\n",
      "['brown']\n",
      "['The', 'quick', 'brown', 'for', 'jumps', 'over', 'the', 'lazy', 'dog']\n",
      "The$quick$brown$for$jumps$over$the$lazy$dog\n"
     ]
    },
    {
     "name": "stderr",
     "output_type": "stream",
     "text": [
      "<>:10: SyntaxWarning: invalid escape sequence '\\s'\n",
      "<>:12: SyntaxWarning: invalid escape sequence '\\s'\n",
      "<>:10: SyntaxWarning: invalid escape sequence '\\s'\n",
      "<>:12: SyntaxWarning: invalid escape sequence '\\s'\n",
      "C:\\Users\\KIT\\AppData\\Local\\Temp\\ipykernel_14480\\1594193515.py:10: SyntaxWarning: invalid escape sequence '\\s'\n",
      "  x = re.split(\"\\s\",msg)\n",
      "C:\\Users\\KIT\\AppData\\Local\\Temp\\ipykernel_14480\\1594193515.py:12: SyntaxWarning: invalid escape sequence '\\s'\n",
      "  x = re.sub(\"\\s\",\"$\",msg)\n"
     ]
    }
   ],
   "source": [
    "import re\n",
    "msg = \"The quick brown for jumps over the lazy dog\"\n",
    "x = re.search(\"brown\",msg)\n",
    "print(x)\n",
    "print(x.span())\n",
    "print(x.string)\n",
    "print(x.group())\n",
    "x = re.findall(\"brown\",msg)\n",
    "print(x)\n",
    "x = re.split(\"\\s\",msg)\n",
    "print(x)\n",
    "x = re.sub(\"\\s\",\"$\",msg)\n",
    "print(x)\n"
   ]
  },
  {
   "cell_type": "code",
   "execution_count": 10,
   "metadata": {},
   "outputs": [
    {
     "name": "stdout",
     "output_type": "stream",
     "text": [
      "Phoneno. found 415-555-4242\n"
     ]
    }
   ],
   "source": [
    "import re\n",
    "phoneNumRegex = re.compile(r'\\d\\d\\d-\\d\\d\\d-\\d\\d\\d\\d')\n",
    "mo = phoneNumRegex.search('My no. is 415-555-4242')\n",
    "print('Phoneno. found ' + mo.group())"
   ]
  },
  {
   "cell_type": "code",
   "execution_count": 18,
   "metadata": {},
   "outputs": [
    {
     "name": "stdout",
     "output_type": "stream",
     "text": [
      "415-555-4242\n",
      "415\n",
      "555-4242\n"
     ]
    }
   ],
   "source": [
    "import re\n",
    "phoneNumRegex = re.compile(r'(\\d\\d\\d)-(\\d\\d\\d-\\d\\d\\d\\d)')\n",
    "mo = phoneNumRegex.search('My no. is 415-555-4242')\n",
    "print(mo.group())\n",
    "areaCode, mainNumber = mo.groups()\n",
    "print(areaCode)\n",
    "print(mainNumber)\n"
   ]
  },
  {
   "cell_type": "code",
   "execution_count": 26,
   "metadata": {},
   "outputs": [
    {
     "name": "stdout",
     "output_type": "stream",
     "text": [
      "hahaha\n",
      "True\n"
     ]
    }
   ],
   "source": [
    "haRegex = re.compile(r'(ha){3}')\n",
    "mo1 = haRegex.search('hahaha')\n",
    "print(mo1.group())\n",
    "mo2 = haRegex.search('ha')\n",
    "print(mo2==None)"
   ]
  },
  {
   "cell_type": "code",
   "execution_count": null,
   "metadata": {},
   "outputs": [],
   "source": []
  }
 ],
 "metadata": {
  "kernelspec": {
   "display_name": "Python 3",
   "language": "python",
   "name": "python3"
  },
  "language_info": {
   "codemirror_mode": {
    "name": "ipython",
    "version": 3
   },
   "file_extension": ".py",
   "mimetype": "text/x-python",
   "name": "python",
   "nbconvert_exporter": "python",
   "pygments_lexer": "ipython3",
   "version": "3.12.3"
  }
 },
 "nbformat": 4,
 "nbformat_minor": 2
}
