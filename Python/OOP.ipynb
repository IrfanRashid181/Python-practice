{
 "cells": [
  {
   "cell_type": "code",
   "execution_count": 36,
   "metadata": {},
   "outputs": [
    {
     "name": "stdout",
     "output_type": "stream",
     "text": [
      "Name is irfan and salary is  67000\n",
      "67000\n",
      "['name', '_Employee__salary', '__module__', '__init__', 'show', '__dict__', '__weakref__', '__doc__', '__new__', '__repr__', '__hash__', '__str__', '__getattribute__', '__setattr__', '__delattr__', '__lt__', '__le__', '__eq__', '__ne__', '__gt__', '__ge__', '__reduce_ex__', '__reduce__', '__getstate__', '__subclasshook__', '__init_subclass__', '__format__', '__sizeof__', '__dir__', '__class__']\n"
     ]
    }
   ],
   "source": [
    "class Employee:\n",
    "    def __init__(self, name, salary):\n",
    "        self.name = name\n",
    "        self.__salary = salary\n",
    "    def show(self):\n",
    "        print(\"Name is\", self.name,\"and salary is \",self.__salary)\n",
    "emp =Employee(\"irfan\",\"67000\")\n",
    "emp.show()\n",
    "#print(emp.salary)\n",
    "print(emp._Employee__salary)\n",
    "print(emp.__dir__())"
   ]
  },
  {
   "cell_type": "code",
   "execution_count": 4,
   "metadata": {},
   "outputs": [
    {
     "name": "stdout",
     "output_type": "stream",
     "text": [
      "Employee  Suhaib 12000 ABC Company\n",
      "Employee  Tahir 10000 ABC Company\n"
     ]
    }
   ],
   "source": [
    "class Employee:\n",
    "    company_name = 'ABC Company'\n",
    "    def __init__(self,name,salary):\n",
    "        self.name = name\n",
    "        self.salary = salary\n",
    "    def show(self):\n",
    "        print(\"Employee \",self.name,self.salary,self.company_name)\n",
    "emp1 = Employee(\"Suhaib\",12000) \n",
    "emp1.show()  \n",
    "emp2 = Employee(\"Tahir\",10000)\n",
    "emp2.show()"
   ]
  },
  {
   "cell_type": "code",
   "execution_count": 5,
   "metadata": {},
   "outputs": [
    {
     "name": "stdout",
     "output_type": "stream",
     "text": [
      "{'name': 'Harshit', 'age': 22, 'id': 2377, 'salary': 20000}\n",
      "{'name': 'Arjun', 'age': 30, 'id': 7123, 'salary': 25000}\n"
     ]
    }
   ],
   "source": [
    "class Employee:\n",
    "    def __init__(self, name, age, id, salary):\n",
    "        self.name = name\n",
    "        self.age = age\n",
    "        self.id = id\n",
    "        self.salary = salary\n",
    "emp1 = Employee(\"Harshit\",22,2377,20000)\n",
    "emp2 = Employee(\"Arjun\",30,7123,25000)\n",
    "\n",
    "print(emp1.__dict__)\n",
    "print(emp2.__dict__)\n",
    "\n"
   ]
  },
  {
   "cell_type": "code",
   "execution_count": 21,
   "metadata": {},
   "outputs": [
    {
     "name": "stdout",
     "output_type": "stream",
     "text": [
      "BMW X1 Black 35000\n",
      "BMW X1 change gear to number 5\n"
     ]
    }
   ],
   "source": [
    "class Vehicle:\n",
    "    def __init__(self,name,color,price):\n",
    "        self.name = name\n",
    "        self.color = color\n",
    "        self.price = price\n",
    "    def info(self):\n",
    "        print(self.name,self.color,self.price)\n",
    "class Car(Vehicle):\n",
    "    def change__gear(self,number):\n",
    "        print(self.name,'change gear to number',number)\n",
    "car = Car('BMW X1','Black','35000')\n",
    "car.info()\n",
    "car.change__gear(5)"
   ]
  },
  {
   "cell_type": "code",
   "execution_count": 6,
   "metadata": {},
   "outputs": [
    {
     "name": "stdout",
     "output_type": "stream",
     "text": [
      "Hello \n",
      "world.\n",
      "['H', 'e', 'l', 'l', 'o', ' ', '\\n', 'w', 'o', 'r', 'l', 'd', '.']\n",
      "--------------------\n"
     ]
    }
   ],
   "source": [
    "import os\n",
    "file_path = \"Demo1.txt\"\n",
    "with open(file_path) as f:\n",
    "    contents = f.read()\n",
    "print(contents)\n",
    "file_lst = list(contents)\n",
    "print(file_lst)\n",
    "print('-'*20)\n",
    "\n",
    "\n",
    "\n"
   ]
  },
  {
   "cell_type": "code",
   "execution_count": 5,
   "metadata": {},
   "outputs": [
    {
     "name": "stdout",
     "output_type": "stream",
     "text": [
      "['H', 'e', 'l', 'l', 'o', ' ', '\\n', 'w', 'o', 'r', 'l', 'd', '.']\n",
      "--------------------\n",
      "Hello \n",
      "\n",
      "--------------------\n",
      "['world.']\n",
      "--------------------\n"
     ]
    }
   ],
   "source": [
    "\n",
    "import os\n",
    "file_lst = list(contents)\n",
    "print(file_lst)\n",
    "print('-'*20)\n",
    "with open(file_path) as f:\n",
    "    print(f.readline(-1))\n",
    "    print('-'*20)\n",
    "    print(f.readlines())\n",
    "    print('-'*20)"
   ]
  },
  {
   "cell_type": "code",
   "execution_count": 33,
   "metadata": {},
   "outputs": [
    {
     "name": "stdout",
     "output_type": "stream",
     "text": [
      "Written Succesfully\n"
     ]
    }
   ],
   "source": [
    "import os\n",
    "file_path = \"Demo1.txt\"\n",
    "with open(file_path,\"w\") as f:\n",
    "    f.write(\"This is an experiment. \")\n",
    "print(\"Written Succesfully\")"
   ]
  },
  {
   "cell_type": "code",
   "execution_count": 34,
   "metadata": {},
   "outputs": [
    {
     "name": "stdout",
     "output_type": "stream",
     "text": [
      "file appended successfully\n"
     ]
    }
   ],
   "source": [
    "import os\n",
    "file_path = \"Demo1.txt\"\n",
    "with open(file_path,\"a\") as f:\n",
    "    f.write(\"This is my text which is appended to the file.\")\n",
    "print(\"file appended successfully\")"
   ]
  },
  {
   "cell_type": "code",
   "execution_count": 35,
   "metadata": {},
   "outputs": [
    {
     "name": "stdout",
     "output_type": "stream",
     "text": [
      "File created\n"
     ]
    }
   ],
   "source": [
    "import os\n",
    "l1 = \"Hello world.\"\n",
    "file = open(\"Demo1.txt\",\"w\")\n",
    "file.writelines(l1)\n",
    "print(\"File created\")\n",
    "file.close()"
   ]
  },
  {
   "cell_type": "code",
   "execution_count": 36,
   "metadata": {},
   "outputs": [
    {
     "name": "stdout",
     "output_type": "stream",
     "text": [
      "['Hello world.']\n"
     ]
    }
   ],
   "source": [
    "import os\n",
    "file = open(\"Demo1.txt\",\"r\")\n",
    "filelist = file.readlines()\n",
    "print(filelist)"
   ]
  },
  {
   "cell_type": "code",
   "execution_count": 10,
   "metadata": {},
   "outputs": [
    {
     "name": "stdout",
     "output_type": "stream",
     "text": [
      "Hello \n",
      "\n",
      "world.\n",
      "Hello \n",
      " world. "
     ]
    }
   ],
   "source": [
    "import os\n",
    "for line in open('Demo1.txt'):\n",
    "    print(line)\n",
    "with open('Demo1.txt',\"r\") as reader:\n",
    "    for line in reader:\n",
    "        print(line, end = \" \")"
   ]
  },
  {
   "cell_type": "code",
   "execution_count": 9,
   "metadata": {},
   "outputs": [
    {
     "name": "stdout",
     "output_type": "stream",
     "text": [
      "Hello \n",
      "\n",
      "world.\n"
     ]
    }
   ],
   "source": [
    "for line in open('Demo1.txt'):\n",
    "    print(line)\n",
    "#with open ('Demo1.txt','r') as reader:\n",
    " #   for line in reader:\n",
    " #       print(line, end=' ') "
   ]
  }
 ],
 "metadata": {
  "kernelspec": {
   "display_name": "Python 3",
   "language": "python",
   "name": "python3"
  },
  "language_info": {
   "codemirror_mode": {
    "name": "ipython",
    "version": 3
   },
   "file_extension": ".py",
   "mimetype": "text/x-python",
   "name": "python",
   "nbconvert_exporter": "python",
   "pygments_lexer": "ipython3",
   "version": "3.12.3"
  }
 },
 "nbformat": 4,
 "nbformat_minor": 2
}
